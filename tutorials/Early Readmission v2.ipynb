{
 "cells": [
  {
   "cell_type": "markdown",
   "metadata": {},
   "source": [
    "# Early Readmission Prediction for the five publically reported CMS diseases"
   ]
  },
  {
   "cell_type": "markdown",
   "metadata": {},
   "source": [
    "### Background and Goal\n",
    "\n",
    "Nearly 15 percent of hospitalized patients are readmitted within 30 days of discharge, the cost of unplanned readmissions is 15 to 20 billion dollars annually. In an effort to reduce the readmission rate and such associated costs. Center of Medicaid and Medicare Systems (CMS) began to publicly report 30-day early readmission for acute myocardial infarction (AMI), Heart Failure (HF), and pneumonia (PN) in 2009 and in 2014 they added Chronic obstructive pulmonary disease (COPD) and ischemic stroke (IS) on the CMS Hospital Compare website. Additionally, the Secretary of the Department of Health and Human Services (HHS) as per the Affordable Care Act established a Hospital Readmissions Reduction Program (HRRP) to reduce payments to hospitals for excess readmissions starting the Fiscal Year 2013. Therefore, Hospitals started to focus their efforts to reduce the early readmissions rate not only for the financial penalty but also for their effectiveness reputability. Identification of patients with high risk for early readmission at the time of discharge can help taking necessary measures to reduce such risk. \n",
    "We aim to develop a deep learning algorithm to predict early readmissions for individual patients based on their EHR available data. Such an algorithm can be later utilized as a clinical decision support system (CDSS) to provide a recommendation at the patient discharge consolidation to improve the quality of the provided healthcare.\n",
    "\n",
    "### Task\n",
    "\n",
    "We want to demonstrate the feasibility of different deep learning architectures mainly Recurrent Neural Networks(RNN) for patient early readmission prediction for patients with one of the five publically reported CMS diseases (AMI, HF, PN, COPD, IS) and compare against other baseline models like Logistic Regression (LR) and Random Forrest (RF). \n",
    "\n",
    "### Dataset\n",
    "\n",
    "We will use the Cerner HealthFacts® database and we will extract all patients with at least two inpatient encounters and has reported any of the CMS 5 publically reported diseases. We will follow the CMS definition of early in-hospital readmission within 30 days. We will exclude any planned readmissions based on the encounter admission source or the index encounter discharge disposition, as well as recurring or transfer encounters. We define our cases as patients who readmitted within 30 days of their previous hospitalization and we define our controls as patients who also get readmitted but after at least 90 days.  On an initial exploration our cohort is composed of 161,738 cases and 178,926 controls and for a sample hospital, we will have 5897 cases and 4757 controls. We plan to use all available patient information including encounter administration level information, demographics, diagnosis, medication, procedures, clinical events, and laboratory results.\n",
    "Deliverables\n",
    "Reproducible and documented computational pipelines trained and tested on the dataset. \n",
    "A comparative evaluation of the performance of different baseline models\n",
    "\n",
    "### Metrics\n",
    "We will use the ROC AUC for the models’ performance comparison.\n"
   ]
  },
  {
   "cell_type": "code",
   "execution_count": null,
   "metadata": {},
   "outputs": [],
   "source": [
    "'''\n",
    "### Notes from the class\n",
    "\n",
    "--- use argparse create automtic help versus sys.arg\n",
    "'''"
   ]
  },
  {
   "cell_type": "markdown",
   "metadata": {},
   "source": [
    "#### Required Tools and Packages\n",
    "---------------------------------\n",
    "We mostly use scikit-learn for baseline machine learning, plotly and matpoltlib for visualization within ipython notebooks, but we also use Tableau aside of it.\n",
    "\n",
    "For deep learning we rely on Pytorch framework (v1), GPU enabling accelerate the computational performance,and for the full set model trainings we might need to utilize the Pytorch DataParallel functionality for parallel GPU computing. "
   ]
  },
  {
   "cell_type": "code",
   "execution_count": 3,
   "metadata": {},
   "outputs": [
    {
     "data": {
      "text/html": [
       "<script type=\"text/javascript\">window.PlotlyConfig = {MathJaxConfig: 'local'};</script><script type=\"text/javascript\">if (window.MathJax) {MathJax.Hub.Config({SVG: {font: \"STIX-Web\"}});}</script><script>requirejs.config({paths: { 'plotly': ['https://cdn.plot.ly/plotly-latest.min']},});if(!window._Plotly) {require(['plotly'],function(plotly) {window._Plotly=plotly;});}</script>"
      ],
      "text/vnd.plotly.v1+html": [
       "<script type=\"text/javascript\">window.PlotlyConfig = {MathJaxConfig: 'local'};</script><script type=\"text/javascript\">if (window.MathJax) {MathJax.Hub.Config({SVG: {font: \"STIX-Web\"}});}</script><script>requirejs.config({paths: { 'plotly': ['https://cdn.plot.ly/plotly-latest.min']},});if(!window._Plotly) {require(['plotly'],function(plotly) {window._Plotly=plotly;});}</script>"
      ]
     },
     "metadata": {},
     "output_type": "display_data"
    }
   ],
   "source": [
    "### Tools and Packages\n",
    "##Basics\n",
    "import pandas as pd\n",
    "import numpy as np\n",
    "import sys, random\n",
    "import math\n",
    "try:\n",
    "    import cPickle as pickle\n",
    "except:\n",
    "    import pickle\n",
    "import string\n",
    "import re\n",
    "import os\n",
    "import time\n",
    "\n",
    "\n",
    "## ML and Stats \n",
    "from sklearn import datasets, linear_model\n",
    "from sklearn.linear_model import LinearRegression\n",
    "import sklearn.metrics as m\n",
    "import sklearn.linear_model  as lm\n",
    "from lifelines.estimation import KaplanMeierFitter\n",
    "from sklearn.metrics import roc_auc_score\n",
    "from sklearn.ensemble import RandomForestClassifier\n",
    "from sklearn.preprocessing import MultiLabelBinarizer\n",
    "from sklearn.tree import export_graphviz\n",
    "import statsmodels.formula.api as sm\n",
    "import patsy\n",
    "from scipy import stats\n",
    "\n",
    "## Visualization\n",
    "import matplotlib\n",
    "import matplotlib.pyplot as plt\n",
    "from matplotlib.pyplot import cm\n",
    "%matplotlib inline\n",
    "from plotly.offline import download_plotlyjs, init_notebook_mode, plot, iplot\n",
    "init_notebook_mode(connected=True)\n",
    "import plotly.plotly as py\n",
    "import plotly.tools as tls\n",
    "import plotly.graph_objs as go\n",
    "from plotly.graph_objs import *\n",
    "from IPython.display import HTML\n",
    "\n",
    "## DL Framework\n",
    "import torch\n",
    "import torch.nn as nn\n",
    "from torch.nn import Parameter\n",
    "import torch.nn.functional as F\n",
    "from torch.autograd import Variable\n",
    "from torch import optim\n",
    "\n",
    "\n",
    "\n",
    "###GPU enabling and device allocation\n",
    "use_cuda = torch.cuda.is_available()\n",
    "torch.cuda.set_device(1)\n",
    "\n"
   ]
  },
  {
   "cell_type": "markdown",
   "metadata": {},
   "source": [
    "## Data extraction\n"
   ]
  },
  {
   "cell_type": "markdown",
   "metadata": {},
   "source": [
    "##### Pseudo-code for Data Extraction\n",
    "a.\tInpatient encounter at acute care hospital that last for at least 24 hours (i.e. discharged_dt_tm - admitted_dt_tm > 24hrs)\n",
    "\n",
    "b.\tAge >=18\n",
    "\n",
    "c.\tFirst inpatient encounter with any of the above diagnosis will be considered the index encounter\n",
    "\n",
    "d.\tThe next inpatient encounter regardless the hospital or the diagnoses i.e. (any inpatient admission) will be considered the readmission encounter, need to be at least 1 day apart from the index encounter\n",
    "\n",
    "e.\tCases are patients readmitted less than 30 days after the index encounter discharge date i.e. (readmission encounter admitted_dt_tm - index encounter discharged_dt_tm < 30 days and >= 1 day), and controls (readmission encounter admitted_dt_tm - index encounter discharged_dt_tm < 30 days\n",
    "\n",
    "f.\tFor data quality issue you might face the case of :\n",
    "\n",
    "    a.\tmissing admission dates --- need to exclude those encounters from the case scenario identification as we normally nvl null admission with the discharged_dt_tm and hence the duration of the encounter become 0 (less than 1 day).\n",
    "    \n",
    "    b.\tencounters dates / duration overlapping ---- so you might find (readmission encounter admitted_dt_tm - index encounter discharged_dt_tm < 1 or 0). So, we exclude those patients from the study for simplicity.\n",
    "    \n",
    "g.\tDifferent encounters need to be at least 1 day apart.\n",
    "\n",
    "\n",
    "2.\tICD Code:\n",
    "\n",
    "1)\tReference: \n",
    "a.\tICD-9-CM: 2016 Condition-Specific Measures Updates and Specifications Report Hospital-Level 30-Day Risk-Standardized Readmission Measures \n",
    "b.\tICD-10-CM: 2018 Condition-Specific Measures Updates and Specifications Report Hospital-Level 30-Day Risk-Standardized Readmission Measures \n",
    "c.\tLinks:  https://www.qualitynet.org/dcs/ContentServer?c=Page&pagename=QnetPublic%2FPage%2FQnetTier4&cid=1219069855841 \n",
    "\n",
    "\n",
    "2)\tCode:\n",
    "a.\tPneumonia:\n",
    "a)\tICD-9-CM: 480.x, 481, 482.x, 483.x, 485, 486, 487.0, 488.11, 507.x \n",
    "b)\tICD-10-CM: A48.1, J10.0x, J11.0x, J12.x, J13, J14, J15.x, J16.x, J69.x, J18.x except J18.2 \n",
    "\n",
    "b.\tHeart Failure:\n",
    "a)\tICD-9-CM: 402.01, 402.11, 402.91, 404.01, 404.03, 404.11, 404.13, 404.91, 404.93, 428.x\n",
    "b)\tICD-10-CM: I13.0, I13.2, I11.0, I50.x\n",
    "c.\tStroke:\n",
    "a)\tICD-9-CM: 433.x1, 434.x1, 436\n",
    "b)\tICD-10-CM: I63.x, I67.89\n",
    "d.\tAcute Myocardial Infarction (AMI):\n",
    "a)\tICD-9-CM: 410.x except 410.x2 which refer to subsequent episode of care\n",
    "b)\tICD-10-CM: I21.x\n",
    "e.\tCOPD:\n",
    "a)\tICD-9-CM: 491.21, 491.22, 491.8, 491.9, 492.8, 493.2x, 496\n",
    "b)\tICD-10-CM: J41.8, J42, J43.x, J44.0, J44.1, J44.9\n"
   ]
  },
  {
   "cell_type": "markdown",
   "metadata": {},
   "source": [
    "## Data Preprocessing"
   ]
  },
  {
   "cell_type": "markdown",
   "metadata": {},
   "source": [
    "###### It is highly recommended to preprocess the data using code available on the Pre-processing folder and load the processed data here .\n",
    "Otherwise you can use the code below"
   ]
  },
  {
   "cell_type": "code",
   "execution_count": null,
   "metadata": {},
   "outputs": [],
   "source": [
    "##### Need to call process_cerner_noMatch.py here to preprocess the raw data to pickled lists if not there\n",
    "\n",
    "try:\n",
    "    train_sl= pickle.load(open('/data/projects/py_ehr_2/Data/readm_new_h143_90_tp.train', 'rb'), encoding='bytes')\n",
    "    test_sl= pickle.load(open('/data/projects/py_ehr_2/Data/readm_new_h143_90_tp.test', 'rb'), encoding='bytes')\n",
    "    valid_sl= pickle.load(open('/data/projects/py_ehr_2/Data//readm_new_h143_90_tp.valid', 'rb'), encoding='bytes')\n",
    "    # types dictionary\n",
    "    types_d=pickle.load(open('/data/projects/Readm/pdata/readm_new_h143_90.types.all', 'rb'), encoding='bytes')\n",
    "    \n",
    "except:\n",
    "     import process_cerner_sample_noMatch as preprocess1\n",
    "\n",
    "types_d_rev = dict(zip(types_d.values(),types_d.keys()))\n",
    "input_size_1=[len(types_d_rev)+1]\n",
    "print (len(train_sl),len(valid_sl),len(test_sl))\n",
    "print(input_size_1)\n"
   ]
  },
  {
   "cell_type": "code",
   "execution_count": 5,
   "metadata": {},
   "outputs": [
    {
     "data": {
      "text/plain": [
       "<module 'process_cerner_sample_noMatch' from '/data/projects/py_ehr_mod/process_cerner_sample_noMatch.py'>"
      ]
     },
     "execution_count": 5,
     "metadata": {},
     "output_type": "execute_result"
    }
   ],
   "source": [
    "preprocess1  <case_file> <control_file> <previous_types/NA> <outputfile>"
   ]
  },
  {
   "cell_type": "markdown",
   "metadata": {},
   "source": [
    "# Baseline Analysis"
   ]
  },
  {
   "cell_type": "markdown",
   "metadata": {},
   "source": [
    "#### Data Loading and Preparation"
   ]
  },
  {
   "cell_type": "code",
   "execution_count": 8,
   "metadata": {},
   "outputs": [
    {
     "name": "stdout",
     "output_type": "stream",
     "text": [
      "7459 1065 2130\n",
      "[9057]\n"
     ]
    }
   ],
   "source": [
    "### A sample one hospital data, this is preprocessed data \n",
    "\n",
    "train_sl= pickle.load(open('../pdata/readm_new_h143_90_tp.train', 'rb'), encoding='bytes')\n",
    "test_sl= pickle.load(open('../pdata/readm_new_h143_90_tp.test', 'rb'), encoding='bytes')\n",
    "valid_sl= pickle.load(open('../pdata/readm_new_h143_90_tp.valid', 'rb'), encoding='bytes')\n",
    "print (len(train_sl),len(valid_sl),len(test_sl))\n",
    "input_size_1=[52007]\n",
    "\n",
    "# types dictionary\n",
    "types_d=pickle.load(open('../pdata/readm_new_h143_90.types.all', 'rb'), encoding='bytes')\n",
    "types_d_rev = dict(zip(types_d.values(),types_d.keys()))\n",
    "#input_size_1=[len(types_d_rev)+1]\n",
    "input_size_1=[max(types_d.values())+1]\n",
    "print(input_size_1)"
   ]
  },
  {
   "cell_type": "code",
   "execution_count": 10,
   "metadata": {},
   "outputs": [],
   "source": [
    "##### Data conversion to onehot matrices for Logestic Regression and may be Random Forest Basic test\n",
    "pts_tr=[]\n",
    "labels_tr=[]\n",
    "features_tr=[]\n",
    "for pt in train_sl:\n",
    "    pts_tr.append(pt[0])\n",
    "    labels_tr.append(pt[1])\n",
    "    x=[]\n",
    "    for v in pt[-1]:\n",
    "        x.extend(v[-1])\n",
    "    features_tr.append(x)\n",
    "      \n",
    "pts_t=[]\n",
    "labels_t=[]\n",
    "features_t=[]\n",
    "for pt in test_sl:\n",
    "    pts_t.append(pt[0])\n",
    "    labels_t.append(pt[1])\n",
    "    x=[]\n",
    "    for v in pt[-1]:\n",
    "        x.extend(v[-1])\n",
    "    features_t.append(x)\n",
    "\n",
    "    \n",
    "mlb = MultiLabelBinarizer(classes=range(input_size_1[0])[1:])\n",
    "nfeatures_tr = mlb.fit_transform(features_tr)\n",
    "nfeatures_t= mlb.fit_transform(features_t)\n"
   ]
  },
  {
   "cell_type": "code",
   "execution_count": 11,
   "metadata": {},
   "outputs": [],
   "source": [
    "### Model Evaluation\n",
    "def evaluate(model, test_features, test_labels):\n",
    "    predictions = model.predict(test_features)\n",
    "    pred_prob=model.predict_proba(test_features)\n",
    "    auc_p=roc_auc_score(test_labels,pred_prob[:,1])\n",
    "    print('Model Performance')\n",
    "    print('AUC = {:0.2f}%.'.format(auc_p*100))\n",
    "    return test_labels,pred_prob[:,1]"
   ]
  },
  {
   "cell_type": "code",
   "execution_count": 12,
   "metadata": {},
   "outputs": [],
   "source": [
    "### ROC curve plotting\n",
    "\n",
    "def plot_roc_curve(label,score):\n",
    "    fpr, tpr, ths = m.roc_curve(label, score) ### If I round it gives me an AUC of 64%\n",
    "    roc_auc = m.auc(fpr, tpr)\n",
    "    plt.figure()\n",
    "    plt.plot(fpr, tpr, color='darkorange',lw=3, label='ROC curve (area = %0.2f)' % roc_auc)\n",
    "    plt.plot([0, 1], [0, 1], color='navy', lw=1, linestyle='--')\n",
    "    plt.xlim([0.0, 1.0])\n",
    "    plt.ylim([0.0, 1.05])\n",
    "    plt.ylabel('Sensitivity')\n",
    "    plt.xlabel('1-Specificity')\n",
    "    plt.title('ROC')\n",
    "    plt.legend(loc=\"lower right\")\n",
    "    plt.show()"
   ]
  },
  {
   "cell_type": "code",
   "execution_count": 13,
   "metadata": {},
   "outputs": [],
   "source": [
    "#### Interactive Plot showing the deep learning model training AUC change over epochs\n",
    "\n",
    "def plot_DLauc_perf(train_auc_allepv,test_auc_allepv,valid_auc_allepv,title_m):\n",
    "    epochs=100\n",
    "    train_auc_fg= go.Scatter(x= np.arange(epochs), y=train_auc_allepv, name='train')\n",
    "    test_auc_fg= go.Scatter(x= np.arange(epochs), y=test_auc_allepv, name='test')\n",
    "    valid_auc_fg= go.Scatter(x= np.arange(epochs), y=valid_auc_allepv, name='valid')\n",
    "    valid_max = max(valid_auc_allepv)\n",
    "    test_max = max(test_auc_allepv)\n",
    "    data = [train_auc_fg,test_auc_fg,valid_auc_fg]\n",
    "    layout = go.Layout(xaxis=dict(dtick=1),title=title_m)\n",
    "    layout.update(dict(annotations=[go.layout.Annotation(text=\"Max Valid\", x=valid_auc_allepv.index(valid_max), y=valid_max)]))\n",
    "    fig = go.Figure(data=data, layout=layout)\n",
    "    iplot(fig, filename=title_m)"
   ]
  },
  {
   "cell_type": "code",
   "execution_count": 14,
   "metadata": {},
   "outputs": [],
   "source": [
    "### for tracking computational timing\n",
    "def timeSince(since):\n",
    "    now = time.time()\n",
    "    s = now - since\n",
    "    m = math.floor(s / 60)\n",
    "    s -= m * 60\n",
    "    return '%dm %ds' % (m, s)\n"
   ]
  },
  {
   "cell_type": "code",
   "execution_count": 15,
   "metadata": {},
   "outputs": [],
   "source": [
    "### DL RNN Model training \n",
    "\n",
    "def run_dl_model(ehr_model,train_sl,valid_sl,test_sl,bmodel_pth,bmodel_st):\n",
    "\n",
    "    ##Hyperparameters -- Fixed for testing purpose\n",
    "    epochs = 100\n",
    "    l2 = 0.0001\n",
    "    lr = 0.01\n",
    "    eps = 1e-4\n",
    "    w_model='RNN'\n",
    "    optimizer = optim.Adamax(ehr_model.parameters(), lr=lr, weight_decay=l2 ,eps=eps)   \n",
    "\n",
    "    ##Training epochs\n",
    "    bestValidAuc = 0.0\n",
    "    bestTestAuc = 0.0\n",
    "    bestValidEpoch = 0\n",
    "    train_auc_allep =[]\n",
    "    valid_auc_allep =[]\n",
    "    test_auc_allep=[]  \n",
    "    for ep in range(epochs):\n",
    "        start = time.time()\n",
    "        current_loss, train_loss = TVT.train(train_sl, model= ehr_model, optimizer = optimizer, batch_size =128)\n",
    "        avg_loss = np.mean(train_loss)\n",
    "        train_time = timeSince(start)\n",
    "        eval_start = time.time()\n",
    "        Train_auc, y_real, y_hat  = TVT.calculate_auc(model = ehr_model, data = train_sl, which_model = w_model, batch_size = 128)\n",
    "        valid_auc, y_real, y_hat  = TVT.calculate_auc(model = ehr_model, data = valid_sl, which_model = w_model, batch_size = 128)\n",
    "        TestAuc, y_real, y_hat = TVT.calculate_auc(model = ehr_model, data = test_sl, which_model = w_model, batch_size = 128)\n",
    "        eval_time = timeSince(eval_start)\n",
    "        print (\"Epoch: \" ,str(ep) ,\" Train_auc :\" , str(Train_auc) , \" , Valid_auc : \" ,str(valid_auc) , \" ,& Test_auc : \" , str(TestAuc) ,\" Avg Loss: \" ,str(avg_loss), ' , Train Time :' , str(train_time) ,' ,Eval Time :' ,str(eval_time))\n",
    "        train_auc_allep.append(Train_auc)\n",
    "        valid_auc_allep.append(valid_auc)\n",
    "        test_auc_allep.append(TestAuc)\n",
    "\n",
    "        if valid_auc > bestValidAuc: \n",
    "            bestValidAuc = valid_auc\n",
    "            bestValidEpoch = ep\n",
    "            bestTestAuc = TestAuc\n",
    "            ###uncomment the below lines to save the best model parameters\n",
    "            best_model = ehr_model\n",
    "            torch.save(best_model, bmodel_pth)\n",
    "            torch.save(best_model.state_dict(), bmodel_st)\n",
    "        if ep - bestValidEpoch >5: break\n",
    "    print( 'bestValidAuc %f has a TestAuc of %f at epoch %d ' % (bestValidAuc, bestTestAuc, bestValidEpoch))\n",
    "    return train_auc_allep,valid_auc_allep,test_auc_allep"
   ]
  },
  {
   "cell_type": "markdown",
   "metadata": {},
   "source": [
    "### Logistic Regression"
   ]
  },
  {
   "cell_type": "code",
   "execution_count": 18,
   "metadata": {
    "scrolled": true
   },
   "outputs": [
    {
     "name": "stderr",
     "output_type": "stream",
     "text": [
      "/home/lgindybekhet/.local/lib/python3.7/site-packages/sklearn/linear_model/logistic.py:433: FutureWarning:\n",
      "\n",
      "Default solver will be changed to 'lbfgs' in 0.22. Specify a solver to silence this warning.\n",
      "\n"
     ]
    },
    {
     "name": "stdout",
     "output_type": "stream",
     "text": [
      "Model Performance\n",
      "AUC = 68.19%.\n"
     ]
    },
    {
     "data": {
      "image/png": "[encoded data removed]",
      "text/plain": [
       "<Figure size 432x288 with 1 Axes>"
      ]
     },
     "metadata": {
      "needs_background": "light"
     },
     "output_type": "display_data"
    },
    {
     "name": "stdout",
     "output_type": "stream",
     "text": [
      "Highly contributing factors based on coefficients: \n",
      "870 1.4327831054812148 b'D_16312'\n",
      "1027 -1.2175592938188224 b'D_7374'\n",
      "1306 1.3082165332769324 b'D_16096'\n",
      "1702 1.4244627069838702 b'D_5590'\n",
      "1704 -1.2811855785882438 b'D_7767'\n",
      "1753 -1.2237770582070084 b'D_14857'\n",
      "1810 1.2127095662926224 b'D_10359'\n",
      "2171 -1.3765387239383837 b'Age_8'\n",
      "2423 1.411843306648128 b'M_SODIUM CITRATE'\n",
      "2455 1.2457002683763267 b'D_16357'\n",
      "2484 1.290995826078115 b'D_853'\n",
      "2549 -1.283826175438615 b'D_6661'\n",
      "2578 1.5232369198766638 b'D_990'\n",
      "3075 1.3007464015553634 b'D_512'\n",
      "3257 1.2994523105230258 b'D_7355'\n",
      "3612 -1.2790395654374211 b'D_1531'\n",
      "3670 1.2087742902514997 b'D_15173'\n",
      "3792 -1.2766749959199761 b'D_14411'\n",
      "3906 1.2033291331647253 b'D_10643'\n",
      "4151 -1.328845942411621 b'D_16387'\n",
      "4221 -1.3269166700727617 b'D_14887'\n",
      "4315 1.2334725242402487 b'D_10654'\n",
      "4710 1.3064383028717754 b'M_LVP SOLUTION WITH POTASSIUM'\n",
      "4786 -1.8074249929705968 b'D_7766'\n",
      "5422 -1.2741952151638185 b'D_10143'\n",
      "5440 1.3445762901678118 b'D_7470'\n",
      "6503 1.5482152564256335 b'D_423'\n"
     ]
    }
   ],
   "source": [
    "EHR_LR= lm.LogisticRegression()\n",
    "EHR_LR.fit(nfeatures_tr, labels_tr)\n",
    "labels,scores=evaluate(EHR_LR,nfeatures_t, labels_t)\n",
    "\n",
    "plot_roc_curve(labels,scores)\n",
    "\n",
    "print (\"Highly contributing factors based on coefficients: \")\n",
    "f_imp=EHR_LR.coef_\n",
    "## top contributing factors in both directions\n",
    "for i,j in enumerate(f_imp[0].tolist()):\n",
    "    if j>1.2 or j<-1.2:\n",
    "        print (i+1,j,types_d_rev[i+1])\n"
   ]
  },
  {
   "cell_type": "markdown",
   "metadata": {},
   "source": [
    "### RNN"
   ]
  },
  {
   "cell_type": "code",
   "execution_count": 20,
   "metadata": {},
   "outputs": [
    {
     "name": "stdout",
     "output_type": "stream",
     "text": [
      "Epoch:  0  Train_auc : 0.7408903063875367  , Valid_auc :  0.7099014193621754  ,& Test_auc :  0.6930175154093985  Avg Loss:  0.7005350611426613  , Train Time : 0m 54s  ,Eval Time : 1m 14s\n",
      "Epoch:  1  Train_auc : 0.8399292437576891  , Valid_auc :  0.7264405069049091  ,& Test_auc :  0.7097633518222196  Avg Loss:  0.603762301531705  , Train Time : 0m 53s  ,Eval Time : 1m 16s\n",
      "Epoch:  2  Train_auc : 0.9095683338747054  , Valid_auc :  0.7123748196478958  ,& Test_auc :  0.7070680524959997  Avg Loss:  0.5338196104223077  , Train Time : 0m 55s  ,Eval Time : 1m 15s\n",
      "Epoch:  3  Train_auc : 0.9715641947398981  , Valid_auc :  0.7236010718067905  ,& Test_auc :  0.7209060152264231  Avg Loss:  0.43365235057744117  , Train Time : 0m 53s  ,Eval Time : 1m 16s\n",
      "Epoch:  4  Train_auc : 0.9961449947061803  , Valid_auc :  0.7222080072780515  ,& Test_auc :  0.7132192547519787  Avg Loss:  0.31647979264909565  , Train Time : 0m 52s  ,Eval Time : 1m 15s\n",
      "Epoch:  5  Train_auc : 0.998885500166045  , Valid_auc :  0.7028579145255407  ,& Test_auc :  0.7106172369997776  Avg Loss:  0.23852437673644583  , Train Time : 0m 53s  ,Eval Time : 1m 15s\n",
      "Epoch:  6  Train_auc : 0.9997078044055334  , Valid_auc :  0.7295464722062306  ,& Test_auc :  0.7182210306896378  Avg Loss:  0.16079508608037776  , Train Time : 0m 53s  ,Eval Time : 1m 14s\n",
      "Epoch:  7  Train_auc : 0.9999918612517831  , Valid_auc :  0.7275741487025309  ,& Test_auc :  0.7196969425170239  Avg Loss:  0.08991949551484803  , Train Time : 0m 53s  ,Eval Time : 1m 17s\n",
      "Epoch:  8  Train_auc : 1.0  , Valid_auc :  0.7101039823166095  ,& Test_auc :  0.7117832566750142  Avg Loss:  0.042461171085861595  , Train Time : 0m 55s  ,Eval Time : 1m 13s\n",
      "Epoch:  9  Train_auc : 0.9999552368848069  , Valid_auc :  0.7181425332452007  ,& Test_auc :  0.7165711128491781  Avg Loss:  0.05588349283418872  , Train Time : 0m 52s  ,Eval Time : 1m 14s\n",
      "Epoch:  10  Train_auc : 1.0  , Valid_auc :  0.7191073725807942  ,& Test_auc :  0.7231227980166903  Avg Loss:  0.03660466372966767  , Train Time : 0m 54s  ,Eval Time : 1m 14s\n",
      "Epoch:  11  Train_auc : 1.0  , Valid_auc :  0.7158361585534873  ,& Test_auc :  0.7202790554164304  Avg Loss:  0.017697849099270323  , Train Time : 0m 53s  ,Eval Time : 1m 14s\n",
      "Epoch:  12  Train_auc : 1.0  , Valid_auc :  0.7176450101992224  ,& Test_auc :  0.7238026771811743  Avg Loss:  0.01261888859708878  , Train Time : 0m 52s  ,Eval Time : 1m 14s\n",
      "bestValidAuc 0.729546 has a TestAuc of 0.718221 at epoch 6 \n"
     ]
    }
   ],
   "source": [
    "### Import the RNN model definition that include the definition of the embedding architucture and different variations of RNN architictures\n",
    "### we will use a very basic GRU layer for this primary analysis\n",
    "import model_HPS1 as model \n",
    "import TrVaTe as TVT \n",
    "\n",
    "ehr_model = model.EHR_RNN(input_size_1, embed_dim=128, hidden_size=128, n_layers=1, dropout_r=0., cell_type='GRU', bii=True , time=True)\n",
    "if use_cuda: ehr_model = ehr_model.cuda()    \n",
    "\n",
    "### Model training \n",
    "train_auc_allep,valid_auc_allep,test_auc_allep=run_dl_model(ehr_model,train_sl,valid_sl,test_sl,'Readm_test.pth','Readm_test.st')"
   ]
  },
  {
   "cell_type": "code",
   "execution_count": 22,
   "metadata": {},
   "outputs": [
    {
     "data": {
      "application/vnd.plotly.v1+json": {
       "config": {
        "linkText": "Export to plot.ly",
        "plotlyServerURL": "https://plot.ly",
        "showLink": false
       },
       "data": [
        {
         "name": "train",
         "type": "scatter",
         "uid": "0d0b2f30-6fc6-448a-a32d-8aedabc0928a",
         "x": [
          0,
          1,
          2,
          3,
          4,
          5,
          6,
          7,
          8,
          9,
          10,
          11,
          12,
          13,
          14,
          15,
          16,
          17,
          18,
          19,
          20,
          21,
          22,
          23,
          24,
          25,
          26,
          27,
          28,
          29,
          30,
          31,
          32,
          33,
          34,
          35,
          36,
          37,
          38,
          39,
          40,
          41,
          42,
          43,
          44,
          45,
          46,
          47,
          48,
          49,
          50,
          51,
          52,
          53,
          54,
          55,
          56,
          57,
          58,
          59,
          60,
          61,
          62,
          63,
          64,
          65,
          66,
          67,
          68,
          69,
          70,
          71,
          72,
          73,
          74,
          75,
          76,
          77,
          78,
          79,
          80,
          81,
          82,
          83,
          84,
          85,
          86,
          87,
          88,
          89,
          90,
          91,
          92,
          93,
          94,
          95,
          96,
          97,
          98,
          99
         ],
         "y": [
          0.7408903063875367,
          0.8399292437576891,
          0.9095683338747054,
          0.9715641947398981,
          0.9961449947061803,
          0.998885500166045,
          0.9997078044055334,
          0.9999918612517831,
          1,
          0.9999552368848069,
          1,
          1,
          1
         ]
        },
        {
         "name": "test",
         "type": "scatter",
         "uid": "22195990-71dc-47d9-9ff8-e82b4d352c47",
         "x": [
          0,
          1,
          2,
          3,
          4,
          5,
          6,
          7,
          8,
          9,
          10,
          11,
          12,
          13,
          14,
          15,
          16,
          17,
          18,
          19,
          20,
          21,
          22,
          23,
          24,
          25,
          26,
          27,
          28,
          29,
          30,
          31,
          32,
          33,
          34,
          35,
          36,
          37,
          38,
          39,
          40,
          41,
          42,
          43,
          44,
          45,
          46,
          47,
          48,
          49,
          50,
          51,
          52,
          53,
          54,
          55,
          56,
          57,
          58,
          59,
          60,
          61,
          62,
          63,
          64,
          65,
          66,
          67,
          68,
          69,
          70,
          71,
          72,
          73,
          74,
          75,
          76,
          77,
          78,
          79,
          80,
          81,
          82,
          83,
          84,
          85,
          86,
          87,
          88,
          89,
          90,
          91,
          92,
          93,
          94,
          95,
          96,
          97,
          98,
          99
         ],
         "y": [
          0.6930175154093985,
          0.7097633518222196,
          0.7070680524959997,
          0.7209060152264231,
          0.7132192547519787,
          0.7106172369997776,
          0.7182210306896378,
          0.7196969425170239,
          0.7117832566750142,
          0.7165711128491781,
          0.7231227980166903,
          0.7202790554164304,
          0.7238026771811743
         ]
        },
        {
         "name": "valid",
         "type": "scatter",
         "uid": "de22870c-37c1-47c5-9328-be0010da1870",
         "x": [
          0,
          1,
          2,
          3,
          4,
          5,
          6,
          7,
          8,
          9,
          10,
          11,
          12,
          13,
          14,
          15,
          16,
          17,
          18,
          19,
          20,
          21,
          22,
          23,
          24,
          25,
          26,
          27,
          28,
          29,
          30,
          31,
          32,
          33,
          34,
          35,
          36,
          37,
          38,
          39,
          40,
          41,
          42,
          43,
          44,
          45,
          46,
          47,
          48,
          49,
          50,
          51,
          52,
          53,
          54,
          55,
          56,
          57,
          58,
          59,
          60,
          61,
          62,
          63,
          64,
          65,
          66,
          67,
          68,
          69,
          70,
          71,
          72,
          73,
          74,
          75,
          76,
          77,
          78,
          79,
          80,
          81,
          82,
          83,
          84,
          85,
          86,
          87,
          88,
          89,
          90,
          91,
          92,
          93,
          94,
          95,
          96,
          97,
          98,
          99
         ],
         "y": [
          0.7099014193621754,
          0.7264405069049091,
          0.7123748196478958,
          0.7236010718067905,
          0.7222080072780515,
          0.7028579145255407,
          0.7295464722062306,
          0.7275741487025309,
          0.7101039823166095,
          0.7181425332452007,
          0.7191073725807942,
          0.7158361585534873,
          0.7176450101992224
         ]
        }
       ],
       "layout": {
        "annotations": [
         {
          "text": "Max Valid",
          "x": 6,
          "y": 0.7295464722062306
         }
        ],
        "title": {
         "text": "Readm_GRU_Auc"
        },
        "xaxis": {
         "dtick": 1
        }
       }
      },
      "text/html": [
       "<div id=\"c551205f-e5aa-437b-a431-5252a8445a2c\" style=\"height: 525px; width: 100%;\" class=\"plotly-graph-div\"></div><script type=\"text/javascript\">require([\"plotly\"], function(Plotly) { window.PLOTLYENV=window.PLOTLYENV || {};window.PLOTLYENV.BASE_URL=\"https://plot.ly\";Plotly.newPlot(\"c551205f-e5aa-437b-a431-5252a8445a2c\", [{\"name\": \"train\", \"x\": [0, 1, 2, 3, 4, 5, 6, 7, 8, 9, 10, 11, 12, 13, 14, 15, 16, 17, 18, 19, 20, 21, 22, 23, 24, 25, 26, 27, 28, 29, 30, 31, 32, 33, 34, 35, 36, 37, 38, 39, 40, 41, 42, 43, 44, 45, 46, 47, 48, 49, 50, 51, 52, 53, 54, 55, 56, 57, 58, 59, 60, 61, 62, 63, 64, 65, 66, 67, 68, 69, 70, 71, 72, 73, 74, 75, 76, 77, 78, 79, 80, 81, 82, 83, 84, 85, 86, 87, 88, 89, 90, 91, 92, 93, 94, 95, 96, 97, 98, 99], \"y\": [0.7408903063875367, 0.8399292437576891, 0.9095683338747054, 0.9715641947398981, 0.9961449947061803, 0.998885500166045, 0.9997078044055334, 0.9999918612517831, 1.0, 0.9999552368848069, 1.0, 1.0, 1.0], \"type\": \"scatter\", \"uid\": \"0d0b2f30-6fc6-448a-a32d-8aedabc0928a\"}, {\"name\": \"test\", \"x\": [0, 1, 2, 3, 4, 5, 6, 7, 8, 9, 10, 11, 12, 13, 14, 15, 16, 17, 18, 19, 20, 21, 22, 23, 24, 25, 26, 27, 28, 29, 30, 31, 32, 33, 34, 35, 36, 37, 38, 39, 40, 41, 42, 43, 44, 45, 46, 47, 48, 49, 50, 51, 52, 53, 54, 55, 56, 57, 58, 59, 60, 61, 62, 63, 64, 65, 66, 67, 68, 69, 70, 71, 72, 73, 74, 75, 76, 77, 78, 79, 80, 81, 82, 83, 84, 85, 86, 87, 88, 89, 90, 91, 92, 93, 94, 95, 96, 97, 98, 99], \"y\": [0.6930175154093985, 0.7097633518222196, 0.7070680524959997, 0.7209060152264231, 0.7132192547519787, 0.7106172369997776, 0.7182210306896378, 0.7196969425170239, 0.7117832566750142, 0.7165711128491781, 0.7231227980166903, 0.7202790554164304, 0.7238026771811743], \"type\": \"scatter\", \"uid\": \"22195990-71dc-47d9-9ff8-e82b4d352c47\"}, {\"name\": \"valid\", \"x\": [0, 1, 2, 3, 4, 5, 6, 7, 8, 9, 10, 11, 12, 13, 14, 15, 16, 17, 18, 19, 20, 21, 22, 23, 24, 25, 26, 27, 28, 29, 30, 31, 32, 33, 34, 35, 36, 37, 38, 39, 40, 41, 42, 43, 44, 45, 46, 47, 48, 49, 50, 51, 52, 53, 54, 55, 56, 57, 58, 59, 60, 61, 62, 63, 64, 65, 66, 67, 68, 69, 70, 71, 72, 73, 74, 75, 76, 77, 78, 79, 80, 81, 82, 83, 84, 85, 86, 87, 88, 89, 90, 91, 92, 93, 94, 95, 96, 97, 98, 99], \"y\": [0.7099014193621754, 0.7264405069049091, 0.7123748196478958, 0.7236010718067905, 0.7222080072780515, 0.7028579145255407, 0.7295464722062306, 0.7275741487025309, 0.7101039823166095, 0.7181425332452007, 0.7191073725807942, 0.7158361585534873, 0.7176450101992224], \"type\": \"scatter\", \"uid\": \"de22870c-37c1-47c5-9328-be0010da1870\"}], {\"annotations\": [{\"text\": \"Max Valid\", \"x\": 6, \"y\": 0.7295464722062306}], \"title\": {\"text\": \"Readm_GRU_Auc\"}, \"xaxis\": {\"dtick\": 1}}, {\"showLink\": false, \"linkText\": \"Export to plot.ly\", \"plotlyServerURL\": \"https://plot.ly\"})});</script><script type=\"text/javascript\">window.addEventListener(\"resize\", function(){window._Plotly.Plots.resize(document.getElementById(\"c551205f-e5aa-437b-a431-5252a8445a2c\"));});</script>"
      ],
      "text/vnd.plotly.v1+html": [
       "<div id=\"c551205f-e5aa-437b-a431-5252a8445a2c\" style=\"height: 525px; width: 100%;\" class=\"plotly-graph-div\"></div><script type=\"text/javascript\">require([\"plotly\"], function(Plotly) { window.PLOTLYENV=window.PLOTLYENV || {};window.PLOTLYENV.BASE_URL=\"https://plot.ly\";Plotly.newPlot(\"c551205f-e5aa-437b-a431-5252a8445a2c\", [{\"name\": \"train\", \"x\": [0, 1, 2, 3, 4, 5, 6, 7, 8, 9, 10, 11, 12, 13, 14, 15, 16, 17, 18, 19, 20, 21, 22, 23, 24, 25, 26, 27, 28, 29, 30, 31, 32, 33, 34, 35, 36, 37, 38, 39, 40, 41, 42, 43, 44, 45, 46, 47, 48, 49, 50, 51, 52, 53, 54, 55, 56, 57, 58, 59, 60, 61, 62, 63, 64, 65, 66, 67, 68, 69, 70, 71, 72, 73, 74, 75, 76, 77, 78, 79, 80, 81, 82, 83, 84, 85, 86, 87, 88, 89, 90, 91, 92, 93, 94, 95, 96, 97, 98, 99], \"y\": [0.7408903063875367, 0.8399292437576891, 0.9095683338747054, 0.9715641947398981, 0.9961449947061803, 0.998885500166045, 0.9997078044055334, 0.9999918612517831, 1.0, 0.9999552368848069, 1.0, 1.0, 1.0], \"type\": \"scatter\", \"uid\": \"0d0b2f30-6fc6-448a-a32d-8aedabc0928a\"}, {\"name\": \"test\", \"x\": [0, 1, 2, 3, 4, 5, 6, 7, 8, 9, 10, 11, 12, 13, 14, 15, 16, 17, 18, 19, 20, 21, 22, 23, 24, 25, 26, 27, 28, 29, 30, 31, 32, 33, 34, 35, 36, 37, 38, 39, 40, 41, 42, 43, 44, 45, 46, 47, 48, 49, 50, 51, 52, 53, 54, 55, 56, 57, 58, 59, 60, 61, 62, 63, 64, 65, 66, 67, 68, 69, 70, 71, 72, 73, 74, 75, 76, 77, 78, 79, 80, 81, 82, 83, 84, 85, 86, 87, 88, 89, 90, 91, 92, 93, 94, 95, 96, 97, 98, 99], \"y\": [0.6930175154093985, 0.7097633518222196, 0.7070680524959997, 0.7209060152264231, 0.7132192547519787, 0.7106172369997776, 0.7182210306896378, 0.7196969425170239, 0.7117832566750142, 0.7165711128491781, 0.7231227980166903, 0.7202790554164304, 0.7238026771811743], \"type\": \"scatter\", \"uid\": \"22195990-71dc-47d9-9ff8-e82b4d352c47\"}, {\"name\": \"valid\", \"x\": [0, 1, 2, 3, 4, 5, 6, 7, 8, 9, 10, 11, 12, 13, 14, 15, 16, 17, 18, 19, 20, 21, 22, 23, 24, 25, 26, 27, 28, 29, 30, 31, 32, 33, 34, 35, 36, 37, 38, 39, 40, 41, 42, 43, 44, 45, 46, 47, 48, 49, 50, 51, 52, 53, 54, 55, 56, 57, 58, 59, 60, 61, 62, 63, 64, 65, 66, 67, 68, 69, 70, 71, 72, 73, 74, 75, 76, 77, 78, 79, 80, 81, 82, 83, 84, 85, 86, 87, 88, 89, 90, 91, 92, 93, 94, 95, 96, 97, 98, 99], \"y\": [0.7099014193621754, 0.7264405069049091, 0.7123748196478958, 0.7236010718067905, 0.7222080072780515, 0.7028579145255407, 0.7295464722062306, 0.7275741487025309, 0.7101039823166095, 0.7181425332452007, 0.7191073725807942, 0.7158361585534873, 0.7176450101992224], \"type\": \"scatter\", \"uid\": \"de22870c-37c1-47c5-9328-be0010da1870\"}], {\"annotations\": [{\"text\": \"Max Valid\", \"x\": 6, \"y\": 0.7295464722062306}], \"title\": {\"text\": \"Readm_GRU_Auc\"}, \"xaxis\": {\"dtick\": 1}}, {\"showLink\": false, \"linkText\": \"Export to plot.ly\", \"plotlyServerURL\": \"https://plot.ly\"})});</script><script type=\"text/javascript\">window.addEventListener(\"resize\", function(){window._Plotly.Plots.resize(document.getElementById(\"c551205f-e5aa-437b-a431-5252a8445a2c\"));});</script>"
      ]
     },
     "metadata": {},
     "output_type": "display_data"
    }
   ],
   "source": [
    "#### Interactive Plot showing the model training AUC change over epochs\n",
    "plot_DLauc_perf(train_auc_allep,test_auc_allep,valid_auc_allep,'Readm_GRU_Auc')"
   ]
  },
  {
   "cell_type": "code",
   "execution_count": null,
   "metadata": {},
   "outputs": [],
   "source": []
  }
 ],
 "metadata": {
  "kernelspec": {
   "display_name": "py_372_env",
   "language": "python",
   "name": "py_372_env"
  },
  "language_info": {
   "codemirror_mode": {
    "name": "ipython",
    "version": 3
   },
   "file_extension": ".py",
   "mimetype": "text/x-python",
   "name": "python",
   "nbconvert_exporter": "python",
   "pygments_lexer": "ipython3",
   "version": "3.7.2"
  }
 },
 "nbformat": 4,
 "nbformat_minor": 2
}
